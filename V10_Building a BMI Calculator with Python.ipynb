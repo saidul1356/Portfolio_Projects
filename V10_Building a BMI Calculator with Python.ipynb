{
 "cells": [
  {
   "cell_type": "markdown",
   "id": "ca8580f9-3e92-400a-8233-434ec89046a0",
   "metadata": {},
   "source": [
    "# BMI Calculator\n",
    "\n",
    "https://mercer-health.com/services/weight-management-center/bmi-calculator#:~:text=Body%20Mass%20Index%2C%20or%20BMI,inches%20x%20height%20in%20inches"
   ]
  },
  {
   "cell_type": "code",
   "execution_count": 1,
   "id": "3cc484f0-a721-49ad-9e92-6abd102bdea4",
   "metadata": {},
   "outputs": [
    {
     "name": "stdin",
     "output_type": "stream",
     "text": [
      "Welcome to BMI calculator. Please enter you name:  jk\n",
      "Enter your weight in pounds:  5\n",
      "Enter your height in inches 12\n"
     ]
    },
    {
     "name": "stdout",
     "output_type": "stream",
     "text": [
      "24.40972222222222\n",
      "jk, you are normal weight.\n"
     ]
    }
   ],
   "source": [
    "#BMI = (weight in pounds x 703) / (height in inches x height in inches)\n",
    "\n",
    "name = input(\"Welcome to BMI calculator. Please enter you name: \") \n",
    "weight = float(input(\"Enter your weight in pounds: \"))\n",
    "height = float(input(\"Enter your height in inches\"))\n",
    "\n",
    "BMI = (weight * 703) / (height * height)\n",
    "print(BMI)\n",
    "\n",
    "if BMI > 0:\n",
    "    if (BMI < 18.5):\n",
    "        print(name + \", you are underweight.\")\n",
    "    elif (BMI <= 24.9):\n",
    "        print(name + \", you are normal weight.\")\n",
    "    elif (BMI <= 29.9):\n",
    "        print(name + \", you are overweight. Try to get more aerobic exercise and avoid eating carbs and sitting still\")\n",
    "    elif (BMI <= 34.9):\n",
    "        print(name + \", you are obese.\")\n",
    "    elif (BMI <= 39.9):\n",
    "        print(name + \", you are severly obese.\")\n",
    "        \n",
    "    else:\n",
    "        print(name + \", you are morbidly obese.\")\n",
    "        \n",
    "else:\n",
    "    print(\"Enter a valid input.\")"
   ]
  },
  {
   "cell_type": "code",
   "execution_count": null,
   "id": "3a884b3c-5100-4eaf-aaf1-68369616fe86",
   "metadata": {},
   "outputs": [],
   "source": []
  }
 ],
 "metadata": {
  "kernelspec": {
   "display_name": "Python 3 (ipykernel)",
   "language": "python",
   "name": "python3"
  },
  "language_info": {
   "codemirror_mode": {
    "name": "ipython",
    "version": 3
   },
   "file_extension": ".py",
   "mimetype": "text/x-python",
   "name": "python",
   "nbconvert_exporter": "python",
   "pygments_lexer": "ipython3",
   "version": "3.11.7"
  }
 },
 "nbformat": 4,
 "nbformat_minor": 5
}
