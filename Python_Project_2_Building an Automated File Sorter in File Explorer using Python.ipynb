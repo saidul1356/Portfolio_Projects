{
 "cells": [
  {
   "cell_type": "markdown",
   "id": "a732a70d-37d0-43be-ae5a-686bc788e914",
   "metadata": {},
   "source": [
    "# __Creating folders if they don't exist__"
   ]
  },
  {
   "cell_type": "code",
   "execution_count": 76,
   "id": "2baee992-bdff-47f2-a592-67fc2027f62e",
   "metadata": {},
   "outputs": [],
   "source": [
    "import os\n",
    "import shutil\n",
    "\n",
    "# Define the path to the directory containing the files\n",
    "path = r\"C:/Users/HP/Documents/Alex_Python_Tutorials/\"\n",
    "\n",
    "# Get the list of file names in the directory\n",
    "file_names = os.listdir(path)\n",
    "\n",
    "# Define the names of the folders to move files into based on their types\n",
    "folder_names = [\"csv files\", \"image files\", \"text files\", \"excel files\", \"word files\", \"pdf files\"]\n",
    "\n",
    "# Create folders if they don't exist\n",
    "for folder in folder_names:\n",
    "    folder_path = os.path.join(path, folder)\n",
    "    if not os.path.exists(folder_path):\n",
    "        os.makedirs(folder_path)\n"
   ]
  },
  {
   "cell_type": "markdown",
   "id": "d2e5bf15-e50e-46dc-a76e-fc32fe4bd228",
   "metadata": {},
   "source": [
    "# **Moving files by filetype to appropriate folders**"
   ]
  },
  {
   "cell_type": "code",
   "execution_count": 77,
   "id": "747ef1e8-bd3f-4294-b0bd-d9f923ccc418",
   "metadata": {},
   "outputs": [
    {
     "name": "stdout",
     "output_type": "stream",
     "text": [
      "Skipping 'csv files': Unsupported file type.\n",
      "Skipping 'excel files': Unsupported file type.\n",
      "Skipping 'image files': Unsupported file type.\n",
      "Skipping 'pdf files': Unsupported file type.\n",
      "Skipping 'text files': Unsupported file type.\n",
      "Skipping 'word files': Unsupported file type.\n"
     ]
    }
   ],
   "source": [
    "# Move files to appropriate folders\n",
    "for file in file_names:\n",
    "    file_path = os.path.join(path, file)\n",
    "    if file.endswith(\".csv\"):\n",
    "        destination_folder = \"csv files\"\n",
    "    elif file.endswith(\".jpg\"):\n",
    "        destination_folder = \"image files\"\n",
    "    elif file.endswith(\".txt\"):\n",
    "        destination_folder = \"text files\"\n",
    "    elif file.endswith(\".xlsx\"):\n",
    "        destination_folder = \"excel files\"\n",
    "    elif file.endswith(\".docx\"):\n",
    "        destination_folder = \"word files\"\n",
    "    elif file.endswith(\".pdf\"):  # Handle \"Chrome HTML Document (.pdf)\" files\n",
    "        destination_folder = \"pdf files\"\n",
    "        \n",
    "    else:\n",
    "        # Skip files with unsupported types\n",
    "        print(f\"Skipping '{file}': Unsupported file type.\")\n",
    "        continue\n",
    "\n",
    "    # Define the destination path for the file based on its type\n",
    "    destination_path = os.path.join(path, destination_folder)\n",
    "    \n",
    "    # Move the file to the appropriate folder\n",
    "    shutil.move(file_path, os.path.join(destination_path, file))"
   ]
  },
  {
   "cell_type": "code",
   "execution_count": null,
   "id": "5f11c24b-856b-4d52-9705-0bd644ef6822",
   "metadata": {},
   "outputs": [],
   "source": []
  }
 ],
 "metadata": {
  "kernelspec": {
   "display_name": "Python 3 (ipykernel)",
   "language": "python",
   "name": "python3"
  },
  "language_info": {
   "codemirror_mode": {
    "name": "ipython",
    "version": 3
   },
   "file_extension": ".py",
   "mimetype": "text/x-python",
   "name": "python",
   "nbconvert_exporter": "python",
   "pygments_lexer": "ipython3",
   "version": "3.11.7"
  }
 },
 "nbformat": 4,
 "nbformat_minor": 5
}
