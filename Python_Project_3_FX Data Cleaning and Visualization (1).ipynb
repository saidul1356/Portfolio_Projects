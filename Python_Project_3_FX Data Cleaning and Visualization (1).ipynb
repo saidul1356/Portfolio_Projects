{
 "cells": [
  {
   "cell_type": "code",
   "execution_count": 25,
   "id": "ba3b4490-e222-46bf-a376-5964fb62f3e5",
   "metadata": {},
   "outputs": [],
   "source": [
    "# Importing Libraries and Loading the Dataset\n",
    "\n",
    "import pandas as pd\n",
    "\n",
    "# Load the dataset\n",
    "df = pd.read_csv(r'C:\\Users\\HP\\Desktop\\Python Automation Projects_Data_Analytics\\Project 1\\archive (3)\\financial_transactions.csv')"
   ]
  },
  {
   "cell_type": "markdown",
   "id": "5e33b151-28aa-470f-98bf-d5c057a446b5",
   "metadata": {},
   "source": [
    "# Exploratory Data Analysis (EDA)"
   ]
  },
  {
   "cell_type": "code",
   "execution_count": 38,
   "id": "33fc0b02-ecdf-48b7-87e0-f5d88ddc3e43",
   "metadata": {},
   "outputs": [
    {
     "name": "stdout",
     "output_type": "stream",
     "text": [
      "Exploratory Data Analysis (EDA)\n",
      "Index(['transaction_id', 'customer_id', 'amount', 'type', 'description',\n",
      "       'day_of_week', 'hour_of_day', 'is_weekend'],\n",
      "      dtype='object')\n",
      "transaction_id      int64\n",
      "customer_id         int64\n",
      "amount            float64\n",
      "type               object\n",
      "description        object\n",
      "day_of_week         int32\n",
      "hour_of_day         int32\n",
      "is_weekend          int64\n",
      "dtype: object\n",
      "            transaction_id  customer_id   amount    type  \\\n",
      "date                                                       \n",
      "2020-10-26               1          926  6478.39  credit   \n",
      "2020-01-08               2          466  1255.95  credit   \n",
      "2019-09-02               3          110  7969.68   debit   \n",
      "2020-12-02               4          142  2927.41  credit   \n",
      "2020-12-02               5          944  4661.88   debit   \n",
      "\n",
      "                                                  description  day_of_week  \\\n",
      "date                                                                         \n",
      "2020-10-26                 Expect series shake art again our.            0   \n",
      "2020-01-08               Each left similar likely coach take.            2   \n",
      "2019-09-02  Direction wife job pull determine leader move ...            0   \n",
      "2020-12-02                    Agree reveal buy black already.            2   \n",
      "2020-12-02       Child relationship show college whom speech.            2   \n",
      "\n",
      "            hour_of_day  is_weekend  \n",
      "date                                 \n",
      "2020-10-26            0           0  \n",
      "2020-01-08            0           0  \n",
      "2019-09-02            0           0  \n",
      "2020-12-02            0           0  \n",
      "2020-12-02            0           0  \n",
      "<class 'pandas.core.frame.DataFrame'>\n",
      "DatetimeIndex: 100000 entries, 2020-10-26 to 2019-07-20\n",
      "Data columns (total 8 columns):\n",
      " #   Column          Non-Null Count   Dtype  \n",
      "---  ------          --------------   -----  \n",
      " 0   transaction_id  100000 non-null  int64  \n",
      " 1   customer_id     100000 non-null  int64  \n",
      " 2   amount          100000 non-null  float64\n",
      " 3   type            100000 non-null  object \n",
      " 4   description     100000 non-null  object \n",
      " 5   day_of_week     100000 non-null  int32  \n",
      " 6   hour_of_day     100000 non-null  int32  \n",
      " 7   is_weekend      100000 non-null  int64  \n",
      "dtypes: float64(1), int32(2), int64(3), object(2)\n",
      "memory usage: 6.1+ MB\n",
      "None\n",
      "       transaction_id    customer_id         amount    day_of_week  \\\n",
      "count   100000.000000  100000.000000  100000.000000  100000.000000   \n",
      "mean     50000.500000     499.594710    5009.012768       3.004780   \n",
      "std      28867.657797     288.973503    2888.443654       2.000329   \n",
      "min          1.000000       1.000000       1.290000       0.000000   \n",
      "25%      25000.750000     249.000000    2514.572500       1.000000   \n",
      "50%      50000.500000     499.000000    5006.135000       3.000000   \n",
      "75%      75000.250000     750.000000    7513.840000       5.000000   \n",
      "max     100000.000000    1000.000000   10000.000000       6.000000   \n",
      "\n",
      "       hour_of_day     is_weekend  \n",
      "count     100000.0  100000.000000  \n",
      "mean           0.0       0.286700  \n",
      "std            0.0       0.452222  \n",
      "min            0.0       0.000000  \n",
      "25%            0.0       0.000000  \n",
      "50%            0.0       0.000000  \n",
      "75%            0.0       1.000000  \n",
      "max            0.0       1.000000  \n",
      "Missing values:\n",
      "transaction_id    0\n",
      "customer_id       0\n",
      "amount            0\n",
      "type              0\n",
      "description       0\n",
      "day_of_week       0\n",
      "hour_of_day       0\n",
      "is_weekend        0\n",
      "dtype: int64\n"
     ]
    }
   ],
   "source": [
    "# Showing all columns and their types\n",
    "print(\"Exploratory Data Analysis (EDA)\")\n",
    "print(df.columns)\n",
    "print(df.dtypes)\n",
    "\n",
    "# View the first few rows of the data\n",
    "print(df.head())\n",
    "\n",
    "# Get information about the data\n",
    "print(df.info())\n",
    "\n",
    "# Get descriptive statistics\n",
    "print(df.describe())\n",
    "\n",
    "# Check for missing values\n",
    "print(\"Missing values:\")\n",
    "print(df.isnull().sum())\n"
   ]
  },
  {
   "cell_type": "markdown",
   "id": "bd2f1b4b-a7e8-4cc2-b4ae-17cdb10cd0e2",
   "metadata": {},
   "source": [
    "# Data Preparation"
   ]
  },
  {
   "cell_type": "code",
   "execution_count": 27,
   "id": "8d195d55-55ea-4922-a5ac-45d4047717ef",
   "metadata": {},
   "outputs": [
    {
     "name": "stdout",
     "output_type": "stream",
     "text": [
      "Missing values:\n",
      "transaction_id    0\n",
      "date              0\n",
      "customer_id       0\n",
      "amount            0\n",
      "type              0\n",
      "description       0\n",
      "dtype: int64\n"
     ]
    }
   ],
   "source": [
    "# Convert the 'date' column to datetime format\n",
    "df['date'] = pd.to_datetime(df['date'])\n",
    "\n",
    "# Check for missing values\n",
    "print(\"Missing values:\")\n",
    "print(df.isnull().sum())\n",
    "\n",
    "# Fill missing values in the 'description' column with an empty string\n",
    "df['description'].fillna('', inplace=True)\n",
    "\n",
    "# Remove any leading or trailing whitespace from the 'description' column\n",
    "df['description'] = df['description'].apply(lambda x: x.strip())"
   ]
  },
  {
   "cell_type": "markdown",
   "id": "74213c58-0945-4f45-89f6-c2657c2de0c5",
   "metadata": {},
   "source": [
    "# Data Cleaning"
   ]
  },
  {
   "cell_type": "code",
   "execution_count": 28,
   "id": "9a6f8960-6d7b-4f3e-91df-1159fb13b6d1",
   "metadata": {},
   "outputs": [],
   "source": [
    "# Fill missing values in the 'description' column with an empty string\n",
    "df['description'].fillna('', inplace=True)\n",
    "\n",
    "# Remove any leading or trailing whitespace from the 'description' column\n",
    "df['description'] = df['description'].apply(lambda x: x.strip())\n",
    "\n",
    "# Remove duplicates\n",
    "df.drop_duplicates(inplace=True)\n",
    "\n",
    "# Convert the 'date' column to datetime format\n",
    "df['date'] = pd.to_datetime(df['date'])\n",
    "\n",
    "# Set the 'date' column as the index\n",
    "df.set_index('date', inplace=True)"
   ]
  },
  {
   "cell_type": "markdown",
   "id": "9e6a2e68-789a-4fc0-aff2-2bc480f73812",
   "metadata": {},
   "source": [
    "# Data Transformation"
   ]
  },
  {
   "cell_type": "code",
   "execution_count": 31,
   "id": "b4e88918-db87-4c48-b129-31de742fe1ee",
   "metadata": {},
   "outputs": [],
   "source": [
    "# Create a new feature: 'day_of_week'\n",
    "df['day_of_week'] = df.index.dayofweek\n",
    "\n",
    "# Create a new feature: 'hour_of_day'\n",
    "df['hour_of_day'] = df.index.hour\n",
    "\n",
    "# Create a new feature: 'is_weekend'\n",
    "df['is_weekend'] = df['day_of_week'].apply(lambda x: 1 if x >= 5 else 0)"
   ]
  },
  {
   "cell_type": "markdown",
   "id": "d6d470df-f36b-4c53-a31a-e2e2b5698097",
   "metadata": {},
   "source": [
    "# Data Visualization"
   ]
  },
  {
   "cell_type": "code",
   "execution_count": 37,
   "id": "f265c919-891c-4543-a5ac-5eff47b23a04",
   "metadata": {},
   "outputs": [
    {
     "data": {
      "image/png": "[encoded data removed]",
      "text/plain": [
       "<Figure size 1000x600 with 1 Axes>"
      ]
     },
     "metadata": {},
     "output_type": "display_data"
    },
    {
     "data": {
      "image/png": "[encoded data removed]",
      "text/plain": [
       "<Figure size 1000x600 with 1 Axes>"
      ]
     },
     "metadata": {},
     "output_type": "display_data"
    }
   ],
   "source": [
    "import matplotlib.pyplot as plt\n",
    "\n",
    "# Plot the count of transactions by day of the week\n",
    "plt.figure(figsize=(10,6))\n",
    "df['day_of_week'].value_counts().plot(kind='bar')\n",
    "plt.title('Count of Transactions by Day of the Week')\n",
    "plt.xlabel('Day of the Week')\n",
    "plt.ylabel('Count')\n",
    "plt.show()\n",
    "\n",
    "# Plot the count of transactions by hour of the day\n",
    "plt.figure(figsize=(10,6))\n",
    "df['hour_of_day'].value_counts().plot(kind='bar')\n",
    "plt.title('Count of Transactions by Hour of the Day')\n",
    "plt.xlabel('Hour of the Day')\n",
    "plt.ylabel('Count')\n",
    "plt.show()\n"
   ]
  },
  {
   "cell_type": "markdown",
   "id": "09fb297d-da6a-48cf-9679-92fc20ab7a21",
   "metadata": {},
   "source": [
    "# Descriptive Statistics"
   ]
  },
  {
   "cell_type": "code",
   "execution_count": 36,
   "id": "41fd0fc3-84d7-43ea-b3a3-5c80eff76a05",
   "metadata": {},
   "outputs": [
    {
     "name": "stdout",
     "output_type": "stream",
     "text": [
      "Mean of Amount: 5009.0127683\n",
      "Median of Amount: 5006.135\n",
      "Standard Deviation of Amount: 2888.4436536344188\n"
     ]
    }
   ],
   "source": [
    "# Calculate the mean, median, and standard deviation of the 'amount' column\n",
    "print(\"Mean of Amount:\", df['amount'].mean())\n",
    "print(\"Median of Amount:\", df['amount'].median())\n",
    "print(\"Standard Deviation of Amount:\", df['amount'].std())"
   ]
  },
  {
   "cell_type": "code",
   "execution_count": null,
   "id": "1068b35b-a47c-485e-8ccf-d4758713cdb4",
   "metadata": {},
   "outputs": [],
   "source": []
  },
  {
   "cell_type": "code",
   "execution_count": null,
   "id": "9ce4d6fb-c2ca-47f5-bd51-6424f5e9fd6f",
   "metadata": {},
   "outputs": [],
   "source": []
  },
  {
   "cell_type": "code",
   "execution_count": null,
   "id": "571e15b5-6db6-4706-b6ad-880858c21478",
   "metadata": {},
   "outputs": [],
   "source": []
  },
  {
   "cell_type": "code",
   "execution_count": null,
   "id": "ebeec00a-da89-4e52-b136-2741a76941bd",
   "metadata": {},
   "outputs": [],
   "source": []
  },
  {
   "cell_type": "code",
   "execution_count": null,
   "id": "d8a59e77-17b3-437f-963e-9beb9603c7e6",
   "metadata": {},
   "outputs": [],
   "source": []
  },
  {
   "cell_type": "code",
   "execution_count": null,
   "id": "017f7d40-318f-420f-9bd3-455beffae556",
   "metadata": {},
   "outputs": [],
   "source": []
  },
  {
   "cell_type": "code",
   "execution_count": null,
   "id": "149a535c-b8ba-4939-aa05-c7f2d0c2e193",
   "metadata": {},
   "outputs": [],
   "source": []
  },
  {
   "cell_type": "code",
   "execution_count": null,
   "id": "dcf2e2b4-cd6a-4140-b6f8-53b709771a26",
   "metadata": {},
   "outputs": [],
   "source": []
  }
 ],
 "metadata": {
  "kernelspec": {
   "display_name": "Python 3 (ipykernel)",
   "language": "python",
   "name": "python3"
  },
  "language_info": {
   "codemirror_mode": {
    "name": "ipython",
    "version": 3
   },
   "file_extension": ".py",
   "mimetype": "text/x-python",
   "name": "python",
   "nbconvert_exporter": "python",
   "pygments_lexer": "ipython3",
   "version": "3.11.7"
  }
 },
 "nbformat": 4,
 "nbformat_minor": 5
}
